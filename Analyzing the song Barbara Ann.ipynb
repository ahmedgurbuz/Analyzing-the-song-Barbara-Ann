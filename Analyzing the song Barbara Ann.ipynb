{
 "cells": [
  {
   "cell_type": "code",
   "execution_count": 1,
   "metadata": {},
   "outputs": [],
   "source": [
    "import pandas as pd\n",
    "import numpy as np"
   ]
  },
  {
   "cell_type": "code",
   "execution_count": 2,
   "metadata": {},
   "outputs": [
    {
     "data": {
      "text/plain": [
       "\"Ah, Ba Ba Ba Ba Barbara Ann Ba Ba Ba Ba Barbara Ann Oh Barbara Ann Take My Hand Barbara Ann You Got Me Rockin' And A-Rollin' Rockin' And A-Reelin' Barbara Ann Ba Ba Ba Barbara Ann ...More Lyrics... Ba Ba Ba Ba Barbara Ann Ba Ba Ba Ba Barbara Ann\""
      ]
     },
     "execution_count": 2,
     "metadata": {},
     "output_type": "execute_result"
    }
   ],
   "source": [
    "lyrics = \"Ah, Ba Ba Ba Ba Barbara Ann Ba Ba Ba Ba Barbara Ann Oh Barbara Ann Take My Hand Barbara Ann You Got Me Rockin' And A-Rollin' Rockin' And A-Reelin' Barbara Ann Ba Ba Ba Barbara Ann ...More Lyrics... Ba Ba Ba Ba Barbara Ann Ba Ba Ba Ba Barbara Ann\"\n",
    "lyrics"
   ]
  },
  {
   "cell_type": "code",
   "execution_count": 3,
   "metadata": {},
   "outputs": [
    {
     "data": {
      "text/plain": [
       "['Ah,',\n",
       " 'Ba',\n",
       " 'Ba',\n",
       " 'Ba',\n",
       " 'Ba',\n",
       " 'Barbara',\n",
       " 'Ann',\n",
       " 'Ba',\n",
       " 'Ba',\n",
       " 'Ba',\n",
       " 'Ba',\n",
       " 'Barbara',\n",
       " 'Ann',\n",
       " 'Oh',\n",
       " 'Barbara',\n",
       " 'Ann',\n",
       " 'Take',\n",
       " 'My',\n",
       " 'Hand',\n",
       " 'Barbara',\n",
       " 'Ann',\n",
       " 'You',\n",
       " 'Got',\n",
       " 'Me',\n",
       " \"Rockin'\",\n",
       " 'And',\n",
       " \"A-Rollin'\",\n",
       " \"Rockin'\",\n",
       " 'And',\n",
       " \"A-Reelin'\",\n",
       " 'Barbara',\n",
       " 'Ann',\n",
       " 'Ba',\n",
       " 'Ba',\n",
       " 'Ba',\n",
       " 'Barbara',\n",
       " 'Ann',\n",
       " '...More',\n",
       " 'Lyrics...',\n",
       " 'Ba',\n",
       " 'Ba',\n",
       " 'Ba',\n",
       " 'Ba',\n",
       " 'Barbara',\n",
       " 'Ann',\n",
       " 'Ba',\n",
       " 'Ba',\n",
       " 'Ba',\n",
       " 'Ba',\n",
       " 'Barbara',\n",
       " 'Ann']"
      ]
     },
     "execution_count": 3,
     "metadata": {},
     "output_type": "execute_result"
    }
   ],
   "source": [
    "list_of_lyrics = lyrics.split(' ')\n",
    "list_of_lyrics"
   ]
  },
  {
   "cell_type": "code",
   "execution_count": 4,
   "metadata": {},
   "outputs": [
    {
     "data": {
      "text/plain": [
       "51"
      ]
     },
     "execution_count": 4,
     "metadata": {},
     "output_type": "execute_result"
    }
   ],
   "source": [
    "len(list_of_lyrics)"
   ]
  },
  {
   "cell_type": "code",
   "execution_count": 5,
   "metadata": {},
   "outputs": [
    {
     "data": {
      "text/plain": [
       "{'...More',\n",
       " \"A-Reelin'\",\n",
       " \"A-Rollin'\",\n",
       " 'Ah,',\n",
       " 'And',\n",
       " 'Ann',\n",
       " 'Ba',\n",
       " 'Barbara',\n",
       " 'Got',\n",
       " 'Hand',\n",
       " 'Lyrics...',\n",
       " 'Me',\n",
       " 'My',\n",
       " 'Oh',\n",
       " \"Rockin'\",\n",
       " 'Take',\n",
       " 'You'}"
      ]
     },
     "execution_count": 5,
     "metadata": {},
     "output_type": "execute_result"
    }
   ],
   "source": [
    "unique_words = set(list_of_lyrics)\n",
    "unique_words"
   ]
  },
  {
   "cell_type": "code",
   "execution_count": 6,
   "metadata": {},
   "outputs": [
    {
     "data": {
      "text/plain": [
       "17"
      ]
     },
     "execution_count": 6,
     "metadata": {},
     "output_type": "execute_result"
    }
   ],
   "source": [
    "len(unique_words)"
   ]
  },
  {
   "cell_type": "code",
   "execution_count": 7,
   "metadata": {},
   "outputs": [
    {
     "data": {
      "text/plain": [
       "{'And': 0,\n",
       " 'Got': 0,\n",
       " 'Ann': 0,\n",
       " 'Lyrics...': 0,\n",
       " 'My': 0,\n",
       " 'Me': 0,\n",
       " \"Rockin'\": 0,\n",
       " 'Ba': 0,\n",
       " '...More': 0,\n",
       " 'Ah,': 0,\n",
       " 'Take': 0,\n",
       " \"A-Reelin'\": 0,\n",
       " 'Barbara': 0,\n",
       " 'Oh': 0,\n",
       " 'You': 0,\n",
       " 'Hand': 0,\n",
       " \"A-Rollin'\": 0}"
      ]
     },
     "execution_count": 7,
     "metadata": {},
     "output_type": "execute_result"
    }
   ],
   "source": [
    "word_histogram = dict.fromkeys(unique_words, 0)\n",
    "word_histogram"
   ]
  },
  {
   "cell_type": "code",
   "execution_count": 8,
   "metadata": {},
   "outputs": [
    {
     "data": {
      "text/plain": [
       "{'And': 2,\n",
       " 'Got': 1,\n",
       " 'Ann': 8,\n",
       " 'Lyrics...': 1,\n",
       " 'My': 1,\n",
       " 'Me': 1,\n",
       " \"Rockin'\": 2,\n",
       " 'Ba': 19,\n",
       " '...More': 1,\n",
       " 'Ah,': 1,\n",
       " 'Take': 1,\n",
       " \"A-Reelin'\": 1,\n",
       " 'Barbara': 8,\n",
       " 'Oh': 1,\n",
       " 'You': 1,\n",
       " 'Hand': 1,\n",
       " \"A-Rollin'\": 1}"
      ]
     },
     "execution_count": 8,
     "metadata": {},
     "output_type": "execute_result"
    }
   ],
   "source": [
    "word_histogram = dict.fromkeys(unique_words, 0)\n",
    "for word in list_of_lyrics:\n",
    "    word_histogram[word] = word_histogram[word]+ 1 \n",
    "\n",
    "word_histogram"
   ]
  },
  {
   "cell_type": "code",
   "execution_count": 9,
   "metadata": {},
   "outputs": [
    {
     "data": {
      "text/plain": [
       "2"
      ]
     },
     "execution_count": 9,
     "metadata": {},
     "output_type": "execute_result"
    }
   ],
   "source": [
    "word_histogram[\"Rockin'\"]"
   ]
  },
  {
   "cell_type": "code",
   "execution_count": 5,
   "metadata": {},
   "outputs": [
    {
     "ename": "ModuleNotFoundError",
     "evalue": "No module named 'plotly'",
     "output_type": "error",
     "traceback": [
      "\u001b[1;31m---------------------------------------------------------------------------\u001b[0m",
      "\u001b[1;31mModuleNotFoundError\u001b[0m                       Traceback (most recent call last)",
      "\u001b[1;32m<ipython-input-5-46ed1c34f33e>\u001b[0m in \u001b[0;36m<module>\u001b[1;34m\u001b[0m\n\u001b[1;32m----> 1\u001b[1;33m \u001b[1;32mimport\u001b[0m \u001b[0mplotly\u001b[0m\u001b[1;33m\u001b[0m\u001b[1;33m\u001b[0m\u001b[0m\n\u001b[0m",
      "\u001b[1;31mModuleNotFoundError\u001b[0m: No module named 'plotly'"
     ]
    }
   ],
   "source": []
  },
  {
   "cell_type": "code",
   "execution_count": null,
   "metadata": {},
   "outputs": [],
   "source": []
  }
 ],
 "metadata": {
  "kernelspec": {
   "display_name": "Python 3",
   "language": "python",
   "name": "python3"
  },
  "language_info": {
   "codemirror_mode": {
    "name": "ipython",
    "version": 3
   },
   "file_extension": ".py",
   "mimetype": "text/x-python",
   "name": "python",
   "nbconvert_exporter": "python",
   "pygments_lexer": "ipython3",
   "version": "3.7.1"
  }
 },
 "nbformat": 4,
 "nbformat_minor": 2
}
