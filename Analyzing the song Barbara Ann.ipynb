{
 "cells": [
  {
   "cell_type": "code",
   "execution_count": 1,
   "metadata": {},
   "outputs": [],
   "source": [
    "import pandas as pd\n",
    "import numpy as np"
   ]
  },
  {
   "cell_type": "code",
   "execution_count": 2,
   "metadata": {},
   "outputs": [
    {
     "data": {
      "text/plain": [
       "\"Ah, Ba Ba Ba Ba Barbara Ann Ba Ba Ba Ba Barbara Ann Oh Barbara Ann Take My Hand Barbara Ann You Got Me Rockin' And A-Rollin' Rockin' And A-Reelin' Barbara Ann Ba Ba Ba Barbara Ann ...More Lyrics... Ba Ba Ba Ba Barbara Ann Ba Ba Ba Ba Barbara Ann\""
      ]
     },
     "execution_count": 2,
     "metadata": {},
     "output_type": "execute_result"
    }
   ],
   "source": [
    "lyrics = \"Ah, Ba Ba Ba Ba Barbara Ann Ba Ba Ba Ba Barbara Ann Oh Barbara Ann Take My Hand Barbara Ann You Got Me Rockin' And A-Rollin' Rockin' And A-Reelin' Barbara Ann Ba Ba Ba Barbara Ann ...More Lyrics... Ba Ba Ba Ba Barbara Ann Ba Ba Ba Ba Barbara Ann\"\n",
    "lyrics"
   ]
  },
  {
   "cell_type": "code",
   "execution_count": 3,
   "metadata": {},
   "outputs": [
    {
     "data": {
      "text/plain": [
       "['Ah,',\n",
       " 'Ba',\n",
       " 'Ba',\n",
       " 'Ba',\n",
       " 'Ba',\n",
       " 'Barbara',\n",
       " 'Ann',\n",
       " 'Ba',\n",
       " 'Ba',\n",
       " 'Ba',\n",
       " 'Ba',\n",
       " 'Barbara',\n",
       " 'Ann',\n",
       " 'Oh',\n",
       " 'Barbara',\n",
       " 'Ann',\n",
       " 'Take',\n",
       " 'My',\n",
       " 'Hand',\n",
       " 'Barbara',\n",
       " 'Ann',\n",
       " 'You',\n",
       " 'Got',\n",
       " 'Me',\n",
       " \"Rockin'\",\n",
       " 'And',\n",
       " \"A-Rollin'\",\n",
       " \"Rockin'\",\n",
       " 'And',\n",
       " \"A-Reelin'\",\n",
       " 'Barbara',\n",
       " 'Ann',\n",
       " 'Ba',\n",
       " 'Ba',\n",
       " 'Ba',\n",
       " 'Barbara',\n",
       " 'Ann',\n",
       " '...More',\n",
       " 'Lyrics...',\n",
       " 'Ba',\n",
       " 'Ba',\n",
       " 'Ba',\n",
       " 'Ba',\n",
       " 'Barbara',\n",
       " 'Ann',\n",
       " 'Ba',\n",
       " 'Ba',\n",
       " 'Ba',\n",
       " 'Ba',\n",
       " 'Barbara',\n",
       " 'Ann']"
      ]
     },
     "execution_count": 3,
     "metadata": {},
     "output_type": "execute_result"
    }
   ],
   "source": [
    "list_of_lyrics = lyrics.split(' ')\n",
    "list_of_lyrics"
   ]
  },
  {
   "cell_type": "code",
   "execution_count": 4,
   "metadata": {},
   "outputs": [
    {
     "data": {
      "text/plain": [
       "51"
      ]
     },
     "execution_count": 4,
     "metadata": {},
     "output_type": "execute_result"
    }
   ],
   "source": [
    "len(list_of_lyrics)"
   ]
  },
  {
   "cell_type": "code",
   "execution_count": 5,
   "metadata": {},
   "outputs": [
    {
     "data": {
      "text/plain": [
       "{'...More',\n",
       " \"A-Reelin'\",\n",
       " \"A-Rollin'\",\n",
       " 'Ah,',\n",
       " 'And',\n",
       " 'Ann',\n",
       " 'Ba',\n",
       " 'Barbara',\n",
       " 'Got',\n",
       " 'Hand',\n",
       " 'Lyrics...',\n",
       " 'Me',\n",
       " 'My',\n",
       " 'Oh',\n",
       " \"Rockin'\",\n",
       " 'Take',\n",
       " 'You'}"
      ]
     },
     "execution_count": 5,
     "metadata": {},
     "output_type": "execute_result"
    }
   ],
   "source": [
    "unique_words = set(list_of_lyrics)\n",
    "unique_words"
   ]
  },
  {
   "cell_type": "code",
   "execution_count": 6,
   "metadata": {},
   "outputs": [
    {
     "data": {
      "text/plain": [
       "17"
      ]
     },
     "execution_count": 6,
     "metadata": {},
     "output_type": "execute_result"
    }
   ],
   "source": [
    "len(unique_words)"
   ]
  },
  {
   "cell_type": "code",
   "execution_count": 7,
   "metadata": {},
   "outputs": [
    {
     "data": {
      "text/plain": [
       "{'My': 0,\n",
       " 'You': 0,\n",
       " '...More': 0,\n",
       " 'Barbara': 0,\n",
       " 'Ah,': 0,\n",
       " 'Ba': 0,\n",
       " 'Lyrics...': 0,\n",
       " 'Oh': 0,\n",
       " 'Me': 0,\n",
       " 'And': 0,\n",
       " 'Take': 0,\n",
       " 'Hand': 0,\n",
       " \"Rockin'\": 0,\n",
       " \"A-Rollin'\": 0,\n",
       " 'Ann': 0,\n",
       " 'Got': 0,\n",
       " \"A-Reelin'\": 0}"
      ]
     },
     "execution_count": 7,
     "metadata": {},
     "output_type": "execute_result"
    }
   ],
   "source": [
    "word_histogram = dict.fromkeys(unique_words, 0)\n",
    "word_histogram"
   ]
  },
  {
   "cell_type": "code",
   "execution_count": 8,
   "metadata": {},
   "outputs": [
    {
     "data": {
      "text/plain": [
       "{'My': 1,\n",
       " 'You': 1,\n",
       " '...More': 1,\n",
       " 'Barbara': 8,\n",
       " 'Ah,': 1,\n",
       " 'Ba': 19,\n",
       " 'Lyrics...': 1,\n",
       " 'Oh': 1,\n",
       " 'Me': 1,\n",
       " 'And': 2,\n",
       " 'Take': 1,\n",
       " 'Hand': 1,\n",
       " \"Rockin'\": 2,\n",
       " \"A-Rollin'\": 1,\n",
       " 'Ann': 8,\n",
       " 'Got': 1,\n",
       " \"A-Reelin'\": 1}"
      ]
     },
     "execution_count": 8,
     "metadata": {},
     "output_type": "execute_result"
    }
   ],
   "source": [
    "word_histogram = dict.fromkeys(unique_words, 0)\n",
    "for word in list_of_lyrics:\n",
    "    word_histogram[word] = word_histogram[word]+ 1 \n",
    "\n",
    "word_histogram"
   ]
  },
  {
   "cell_type": "code",
   "execution_count": 9,
   "metadata": {},
   "outputs": [
    {
     "data": {
      "text/plain": [
       "2"
      ]
     },
     "execution_count": 9,
     "metadata": {},
     "output_type": "execute_result"
    }
   ],
   "source": [
    "word_histogram[\"Rockin'\"]"
   ]
  },
  {
   "cell_type": "code",
   "execution_count": 10,
   "metadata": {},
   "outputs": [
    {
     "data": {
      "text/html": [
       "        <script type=\"text/javascript\">\n",
       "        window.PlotlyConfig = {MathJaxConfig: 'local'};\n",
       "        if (window.MathJax) {MathJax.Hub.Config({SVG: {font: \"STIX-Web\"}});}\n",
       "        if (typeof require !== 'undefined') {\n",
       "        require.undef(\"plotly\");\n",
       "        requirejs.config({\n",
       "            paths: {\n",
       "                'plotly': ['https://cdn.plot.ly/plotly-latest.min']\n",
       "            }\n",
       "        });\n",
       "        require(['plotly'], function(Plotly) {\n",
       "            window._Plotly = Plotly;\n",
       "        });\n",
       "        }\n",
       "        </script>\n",
       "        "
      ]
     },
     "metadata": {},
     "output_type": "display_data"
    },
    {
     "data": {
      "application/vnd.plotly.v1+json": {
       "config": {
        "linkText": "Export to plot.ly",
        "plotlyServerURL": "https://plot.ly",
        "showLink": false
       },
       "data": [
        {
         "type": "bar",
         "uid": "cf3af096-2de1-4b14-8813-9d4442bb9be8",
         "x": [
          "My",
          "You",
          "...More",
          "Barbara",
          "Ah,",
          "Ba",
          "Lyrics...",
          "Oh",
          "Me",
          "And",
          "Take",
          "Hand",
          "Rockin'",
          "A-Rollin'",
          "Ann",
          "Got",
          "A-Reelin'"
         ],
         "y": [
          1,
          1,
          1,
          8,
          1,
          19,
          1,
          1,
          1,
          2,
          1,
          1,
          2,
          1,
          8,
          1,
          1
         ]
        }
       ],
       "layout": {}
      },
      "text/html": [
       "<div>\n",
       "        \n",
       "        \n",
       "            <div id=\"7ef161b8-69eb-43bc-93f4-e6c4560145f1\" class=\"plotly-graph-div\" style=\"height:525px; width:100%;\"></div>\n",
       "            <script type=\"text/javascript\">\n",
       "                require([\"plotly\"], function(Plotly) {\n",
       "                    window.PLOTLYENV=window.PLOTLYENV || {};\n",
       "                    window.PLOTLYENV.BASE_URL='https://plot.ly';\n",
       "                    \n",
       "                if (document.getElementById(\"7ef161b8-69eb-43bc-93f4-e6c4560145f1\")) {\n",
       "                    Plotly.newPlot(\n",
       "                        '7ef161b8-69eb-43bc-93f4-e6c4560145f1',\n",
       "                        [{\"type\": \"bar\", \"uid\": \"cf3af096-2de1-4b14-8813-9d4442bb9be8\", \"x\": [\"My\", \"You\", \"...More\", \"Barbara\", \"Ah,\", \"Ba\", \"Lyrics...\", \"Oh\", \"Me\", \"And\", \"Take\", \"Hand\", \"Rockin'\", \"A-Rollin'\", \"Ann\", \"Got\", \"A-Reelin'\"], \"y\": [1, 1, 1, 8, 1, 19, 1, 1, 1, 2, 1, 1, 2, 1, 8, 1, 1]}],\n",
       "                        {},\n",
       "                        {\"showLink\": false, \"linkText\": \"Export to plot.ly\", \"plotlyServerURL\": \"https://plot.ly\", \"responsive\": true}\n",
       "                    ).then(function(){\n",
       "                            \n",
       "var gd = document.getElementById('7ef161b8-69eb-43bc-93f4-e6c4560145f1');\n",
       "var x = new MutationObserver(function (mutations, observer) {{\n",
       "        var display = window.getComputedStyle(gd).display;\n",
       "        if (!display || display === 'none') {{\n",
       "            console.log([gd, 'removed!']);\n",
       "            Plotly.purge(gd);\n",
       "            observer.disconnect();\n",
       "        }}\n",
       "}});\n",
       "\n",
       "// Listen for the removal of the full notebook cells\n",
       "var notebookContainer = gd.closest('#notebook-container');\n",
       "if (notebookContainer) {{\n",
       "    x.observe(notebookContainer, {childList: true});\n",
       "}}\n",
       "\n",
       "// Listen for the clearing of the current output cell\n",
       "var outputEl = gd.closest('.output');\n",
       "if (outputEl) {{\n",
       "    x.observe(outputEl, {childList: true});\n",
       "}}\n",
       "\n",
       "                        })\n",
       "                };\n",
       "                });\n",
       "            </script>\n",
       "        </div>"
      ]
     },
     "metadata": {},
     "output_type": "display_data"
    }
   ],
   "source": [
    "import plotly\n",
    "from plotly.offline import iplot, init_notebook_mode\n",
    "from plotly import tools\n",
    "import plotly.graph_objs as go\n",
    "init_notebook_mode(connected=True)\n",
    " \n",
    "trace = {'type': 'bar', 'x': list(unique_words), 'y': list(word_histogram.values())}\n",
    " \n",
    "plotly.offline.iplot({'data': [trace]})"
   ]
  },
  {
   "cell_type": "code",
   "execution_count": null,
   "metadata": {},
   "outputs": [],
   "source": []
  }
 ],
 "metadata": {
  "kernelspec": {
   "display_name": "Python 3",
   "language": "python",
   "name": "python3"
  },
  "language_info": {
   "codemirror_mode": {
    "name": "ipython",
    "version": 3
   },
   "file_extension": ".py",
   "mimetype": "text/x-python",
   "name": "python",
   "nbconvert_exporter": "python",
   "pygments_lexer": "ipython3",
   "version": "3.7.1"
  }
 },
 "nbformat": 4,
 "nbformat_minor": 2
}
